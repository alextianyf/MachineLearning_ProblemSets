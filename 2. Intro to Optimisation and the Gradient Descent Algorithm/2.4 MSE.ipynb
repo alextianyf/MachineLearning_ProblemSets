{
 "cells": [
  {
   "cell_type": "markdown",
   "metadata": {},
   "source": [
    "## Working with Data & a Real Cost Function\n",
    "### Mean Squared Error(MSE): a cost function for regression problems\n",
    "### $$ RSS = \\sum_{i=1}^{n} (y^{(i)} - h_\\theta x^{(i)} )^2 $$\n",
    "where $h_\\theta x^{(i)}$ is $\\theta_0 + \\theta_1 \\cdot x$ which is the predicted value\n",
    "### $$ MSE = \\frac{1}{n} \\sum_{i=1}^{n} (y^{(i)} - h_\\theta x^{(i)} )^2 $$ or $$ MSE = \\frac{1}{n} \\sum_{i=1}^{n} (y - \\hat{y} )^2 $$\n",
    "where $\\hat{y}$ is the predicted value<br>\n",
    "\n",
    "### Why MSE better than RSS?\n",
    "\n",
    "When we deal with large dataset, the RSS can be really large and it may overflow.<br>\n",
    "By dividing the number of samples, we can prevent the overflow issue."
   ]
  },
  {
   "cell_type": "markdown",
   "metadata": {},
   "source": [
    "### Importing Packages"
   ]
  },
  {
   "cell_type": "code",
   "execution_count": 42,
   "metadata": {},
   "outputs": [],
   "source": [
    "#import matplotlib\n",
    "import matplotlib.pyplot as plt\n",
    "from matplotlib import cm # color map\n",
    "#from mpl_toolkits import mplot3d # 3D plot required library\n",
    "#from mpl_toolkits.mplot3d.axes3d import Axes3D\n",
    "import numpy as np\n",
    "\n",
    "from sympy import symbols, diff\n",
    "from math import log\n",
    "\n",
    "from sklearn.linear_model import LinearRegression\n",
    "from sklearn.metrics import mean_squared_error\n",
    "\n",
    "%matplotlib inline"
   ]
  },
  {
   "cell_type": "markdown",
   "metadata": {},
   "source": [
    "### Transposing and Reshaping Arrays\n",
    "\n",
    "Preparing input data"
   ]
  },
  {
   "cell_type": "code",
   "execution_count": 31,
   "metadata": {},
   "outputs": [
    {
     "name": "stdout",
     "output_type": "stream",
     "text": [
      "Shape of array x: (7,)\n",
      "Shape of array y: (1, 7)\n",
      "Shape of array x: (7, 1)\n",
      "Shape of array y: (7, 1)\n"
     ]
    }
   ],
   "source": [
    "# In order to use linear Regression function, a 2D input is required\n",
    "\n",
    "x = np.array([0.1, 1.2, 2.4, 3.2, 4.1, 5.7, 6.5]) # This is 1 dimensional input\n",
    "y = np.array([[1.7, 2.4, 3.5, 3.0, 6.1, 9.4, 8.2]]) # This is 2D but wrong format\n",
    "\n",
    "print('Shape of array x:', x.shape)\n",
    "print('Shape of array y:', y.shape)\n",
    "\n",
    "x = np.array([[0.1, 1.2, 2.4, 3.2, 4.1, 5.7, 6.5]]).transpose() \n",
    "y = np.array([[1.7, 2.4, 3.5, 3.0, 6.1, 9.4, 8.2]]).reshape(7,1) # you can use transpose or reshape, and they both work\n",
    "\n",
    "print('Shape of array x:', x.shape)\n",
    "print('Shape of array y:', y.shape)\n"
   ]
  },
  {
   "cell_type": "code",
   "execution_count": 47,
   "metadata": {},
   "outputs": [
    {
     "name": "stdout",
     "output_type": "stream",
     "text": [
      "Theta 0: 0.8475351486029554\n",
      "Theta 1: 1.222726463783591\n",
      "Predicted value:\n",
      " [[0.96980779]\n",
      " [2.31480691]\n",
      " [3.78207866]\n",
      " [4.76025983]\n",
      " [5.86071365]\n",
      " [7.81707599]\n",
      " [8.79525716]]\n"
     ]
    }
   ],
   "source": [
    "# Quick linear Regression\n",
    "regr = LinearRegression()\n",
    "regr.fit(x, y)\n",
    "print('Theta 0:', regr.intercept_[0])\n",
    "print('Theta 1:', regr.coef_[0][0])\n",
    "print('Predicted value:\\n',regr.predict(x))"
   ]
  },
  {
   "cell_type": "markdown",
   "metadata": {},
   "source": [
    "### Plotting and Observe the Actual values and Predicted Values"
   ]
  },
  {
   "cell_type": "code",
   "execution_count": 27,
   "metadata": {},
   "outputs": [
    {
     "data": {
      "image/png": "[encoded data removed]",
      "text/plain": [
       "<Figure size 1200x700 with 1 Axes>"
      ]
     },
     "metadata": {},
     "output_type": "display_data"
    }
   ],
   "source": [
    "plt.figure(figsize=(12,7))\n",
    "plt.scatter(x,y,s=50) # Plot input data\n",
    "plt.plot(x,regr.predict(x),color='orange', linewidth=3) # plot predict regression linear function\n",
    "plt.xlabel('x values')\n",
    "plt.ylabel('y values')\n",
    "plt.show()"
   ]
  },
  {
   "cell_type": "code",
   "execution_count": 35,
   "metadata": {},
   "outputs": [
    {
     "name": "stdout",
     "output_type": "stream",
     "text": [
      "Predicted value y_hat are: \n",
      " [[0.96980779]\n",
      " [2.31480691]\n",
      " [3.78207866]\n",
      " [4.76025983]\n",
      " [5.86071365]\n",
      " [7.81707599]\n",
      " [8.79525716]]\n",
      "In comparision, the actual y values are \n",
      " [[1.7]\n",
      " [2.4]\n",
      " [3.5]\n",
      " [3. ]\n",
      " [6.1]\n",
      " [9.4]\n",
      " [8.2]]\n"
     ]
    }
   ],
   "source": [
    "# y_hat = theta0 + theta1 * x\n",
    "y_hat = 0.847535148603 + 1.22272646378 * x\n",
    "print('Predicted value y_hat are: \\n', y_hat)\n",
    "print('In comparision, the actual y values are \\n', y)"
   ]
  },
  {
   "cell_type": "markdown",
   "metadata": {},
   "source": [
    "### Python Function mse(y, y_hat) Return the MSE\n",
    "**Manual Calculation:**"
   ]
  },
  {
   "cell_type": "code",
   "execution_count": 40,
   "metadata": {},
   "outputs": [
    {
     "name": "stdout",
     "output_type": "stream",
     "text": [
      "Manually calculated MSE is: [0.94796558]\n"
     ]
    }
   ],
   "source": [
    "def mse(y, y_hat):\n",
    "    #mse_calc = (1/y.size) * sum((y - y_hat) ** 2)\n",
    "    # Alternative way\n",
    "    mse_calc = np.average((y-y_hat) ** 2, axis = 0) # axis = 0 means average the rows, not column\n",
    "\n",
    "    return mse_calc\n",
    "\n",
    "print('Manually calculated MSE is:',mse(y, y_hat))"
   ]
  },
  {
   "cell_type": "markdown",
   "metadata": {},
   "source": [
    "**Using in-build Sklearn function:**"
   ]
  },
  {
   "cell_type": "code",
   "execution_count": 43,
   "metadata": {},
   "outputs": [
    {
     "name": "stdout",
     "output_type": "stream",
     "text": [
      "Sklearn in-build calculated MSE is: 0.947965575979458\n"
     ]
    }
   ],
   "source": [
    "print('Sklearn in-build calculated MSE is:', mean_squared_error(y, y_hat))"
   ]
  },
  {
   "cell_type": "code",
   "execution_count": 44,
   "metadata": {},
   "outputs": [
    {
     "name": "stdout",
     "output_type": "stream",
     "text": [
      "MSE regression is: 0.9479655759794575\n"
     ]
    }
   ],
   "source": [
    "print('MSE regression is:', mean_squared_error(y, regr.predict(x)))"
   ]
  }
 ],
 "metadata": {
  "kernelspec": {
   "display_name": "Python 3",
   "language": "python",
   "name": "python3"
  },
  "language_info": {
   "codemirror_mode": {
    "name": "ipython",
    "version": 3
   },
   "file_extension": ".py",
   "mimetype": "text/x-python",
   "name": "python",
   "nbconvert_exporter": "python",
   "pygments_lexer": "ipython3",
   "version": "3.8.0"
  }
 },
 "nbformat": 4,
 "nbformat_minor": 2
}
