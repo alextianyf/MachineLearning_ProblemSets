{
 "cells": [
  {
   "cell_type": "markdown",
   "metadata": {},
   "source": [
    "# 1. Cost Function 代价函数/成本函数\n",
    "> ### How a Machine Learns?\n",
    "1. Predict (Initial Prediction Parameter is almost a random guess)\n",
    "2. Calculate Error (Measure how good is the guess/how far away from the data)\n",
    "3. Learn (Ajust initial Prediction, and slowly learn and find the best coefficents)\n",
    "4. Repeat from Step 1 again\n",
    "\n",
    "> ### Understanding Cost Function\n",
    "\n",
    "Minimize the distance between data and predict linear model(or other type of models)<br>\n",
    "We are aiming to find the `Lowest Cost`<br>\n",
    "Cost function also called Loss function, Error Function, Objective Function<br>\n",
    "\n",
    "There are many cost functions:\n",
    "- Residual Sum of Squares(RSS)\n",
    "- Mean Squared Error(MES)\n",
    "- etc..."
   ]
  }
 ],
 "metadata": {
  "kernelspec": {
   "display_name": "Python 3",
   "language": "python",
   "name": "python3"
  },
  "language_info": {
   "codemirror_mode": {
    "name": "ipython",
    "version": 3
   },
   "file_extension": ".py",
   "mimetype": "text/x-python",
   "name": "python",
   "nbconvert_exporter": "python",
   "pygments_lexer": "ipython3",
   "version": "3.8.0"
  }
 },
 "nbformat": 4,
 "nbformat_minor": 2
}
