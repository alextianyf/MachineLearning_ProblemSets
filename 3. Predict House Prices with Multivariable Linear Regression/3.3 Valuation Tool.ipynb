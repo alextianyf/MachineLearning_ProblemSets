{
 "cells": [
  {
   "cell_type": "code",
   "execution_count": 1,
   "metadata": {},
   "outputs": [],
   "source": [
    "from sklearn.datasets import fetch_california_housing\n",
    "from sklearn.linear_model import LinearRegression\n",
    "from sklearn.metrics import mean_squared_error\n",
    "\n",
    "import pandas as pd\n",
    "import numpy as np\n",
    "\n",
    "# import matplotlib.pyplot as plt\n",
    "\n",
    "# # install seaborn with command \"pip install seaborn\"\n",
    "# # https://seaborn.pydata.org/\n",
    "# import seaborn as sns\n",
    "\n",
    "\n",
    "# # install with command 'pip install statsmodels'\n",
    "# import statsmodels.api as sm\n",
    "# from statsmodels.stats.outliers_influence import variance_inflation_factor\n",
    "\n",
    "# %matplotlib inline"
   ]
  },
  {
   "cell_type": "code",
   "execution_count": 2,
   "metadata": {},
   "outputs": [],
   "source": [
    "# Gather Data\n",
    "california_dataset = fetch_california_housing()\n",
    "data = pd.DataFrame(data=california_dataset.data, columns=california_dataset.feature_names)\n",
    "features = data.drop(['Population'], axis=1)\n",
    "\n",
    "log_prices = np.log(california_dataset.target)\n",
    "target = pd.DataFrame(log_prices,columns=['PRICE'])"
   ]
  },
  {
   "cell_type": "code",
   "execution_count": 3,
   "metadata": {},
   "outputs": [
    {
     "data": {
      "text/plain": [
       "array([[   3.870671  ,   28.63948643,    5.42899974,    1.09667515,\n",
       "           3.07065516,   35.63186143, -119.56970446]])"
      ]
     },
     "execution_count": 3,
     "metadata": {},
     "output_type": "execute_result"
    }
   ],
   "source": [
    "MedInc_IDX = 0\n",
    "HouseAge_IDX = 1\n",
    "AveRooms_IDX = 2\n",
    "AveBedrms_IDX = 3\n",
    "AveOccup_IDX = 4\n",
    "Latitude_IDX = 5\n",
    "Longtitude_IDX = 6\n",
    "PRICE_IDX = 7\n",
    "\n",
    "# property_stats = np.ndarray(shape=(1,7))\n",
    "# property_stats[0][MedInc_IDX] = features['MedInc'].mean()\n",
    "\n",
    "property_stats = features.mean().values.reshape(1,7)\n",
    "\n",
    "property_stats"
   ]
  },
  {
   "cell_type": "code",
   "execution_count": 4,
   "metadata": {},
   "outputs": [],
   "source": [
    "regr = LinearRegression().fit(features,target)\n",
    "fitted_vals = regr.predict(features)\n",
    "\n",
    "MSE = mean_squared_error(target,fitted_vals)\n",
    "RMSE = np.sqrt(MSE)"
   ]
  },
  {
   "cell_type": "code",
   "execution_count": 5,
   "metadata": {},
   "outputs": [],
   "source": [
    "# Lets keep this model simple \n",
    "def get_log_estimate(income,houseAge,roomNumber, high_confidence=True):\n",
    "    # Configure property\n",
    "    property_stats[0][MedInc_IDX] = income\n",
    "    property_stats[0][HouseAge_IDX] = houseAge\n",
    "    property_stats[0][AveRooms_IDX] = roomNumber\n",
    "    \n",
    "    # Make prediction\n",
    "    log_estimate = regr.predict(property_stats)[0][0]\n",
    "\n",
    "    # Calc Range\n",
    "    if high_confidence:\n",
    "        upper_bound = log_estimate + 2*RMSE\n",
    "        lower_bound = log_estimate - 2*RMSE\n",
    "        interval = 95\n",
    "    else:\n",
    "        upper_bound = log_estimate + RMSE\n",
    "        lower_bound = log_estimate - RMSE\n",
    "        interval = 68\n",
    "\n",
    "    return log_estimate, upper_bound, lower_bound, interval"
   ]
  },
  {
   "cell_type": "code",
   "execution_count": 6,
   "metadata": {},
   "outputs": [
    {
     "name": "stderr",
     "output_type": "stream",
     "text": [
      "c:\\Users\\ASUS\\AppData\\Local\\Programs\\Python\\Python38\\lib\\site-packages\\sklearn\\base.py:465: UserWarning: X does not have valid feature names, but LinearRegression was fitted with feature names\n",
      "  warnings.warn(\n"
     ]
    },
    {
     "data": {
      "text/plain": [
       "(0.2966206060853658, 1.0036565171061618, -0.4104153049354303, 95)"
      ]
     },
     "execution_count": 6,
     "metadata": {},
     "output_type": "execute_result"
    }
   ],
   "source": [
    "# High Confidence result\n",
    "get_log_estimate(2,25,3)"
   ]
  },
  {
   "cell_type": "code",
   "execution_count": 7,
   "metadata": {},
   "outputs": [
    {
     "name": "stderr",
     "output_type": "stream",
     "text": [
      "c:\\Users\\ASUS\\AppData\\Local\\Programs\\Python\\Python38\\lib\\site-packages\\sklearn\\base.py:465: UserWarning: X does not have valid feature names, but LinearRegression was fitted with feature names\n",
      "  warnings.warn(\n"
     ]
    },
    {
     "data": {
      "text/plain": [
       "(0.2966206060853658, 0.6501385615957638, -0.05689734942503227, 68)"
      ]
     },
     "execution_count": 7,
     "metadata": {},
     "output_type": "execute_result"
    }
   ],
   "source": [
    "# Low Confidence Result\n",
    "get_log_estimate(2,25,3,False)"
   ]
  },
  {
   "cell_type": "code",
   "execution_count": 8,
   "metadata": {},
   "outputs": [
    {
     "data": {
      "text/plain": [
       "1.797"
      ]
     },
     "execution_count": 8,
     "metadata": {},
     "output_type": "execute_result"
    }
   ],
   "source": [
    "np.median(california_dataset.target)"
   ]
  },
  {
   "cell_type": "code",
   "execution_count": 9,
   "metadata": {},
   "outputs": [
    {
     "name": "stdout",
     "output_type": "stream",
     "text": [
      "The estimated property value is 749000.0.\n",
      "At 95% confidence the valuation range is\n",
      "USD 369000.0 at the lower end to US 1518000.0 at the high end.\n"
     ]
    },
    {
     "name": "stderr",
     "output_type": "stream",
     "text": [
      "c:\\Users\\ASUS\\AppData\\Local\\Programs\\Python\\Python38\\lib\\site-packages\\sklearn\\base.py:465: UserWarning: X does not have valid feature names, but LinearRegression was fitted with feature names\n",
      "  warnings.warn(\n"
     ]
    }
   ],
   "source": [
    "# We assume California median price today is $1,000,000\n",
    "# This value can be adjust accordingly\n",
    "# We will converts the log price estimate using 1970s prices\n",
    "\n",
    "MEDIAN_PRICE = 10 # unit in 100,000\n",
    "SCALE_FACTOR = MEDIAN_PRICE/np.median(california_dataset.target)\n",
    "\n",
    "log_est, upper, lower, conf = get_log_estimate(2, 25, 3)\n",
    "\n",
    "# Convert to today's dollars\n",
    "dollar_est = np.e**log_est * 100000 * SCALE_FACTOR\n",
    "dollar_high = np.e**upper * 100000 * SCALE_FACTOR\n",
    "dollar_low = np.e**lower * 100000 * SCALE_FACTOR\n",
    "\n",
    "# Round the dollar values to nearest thousand\n",
    "rounded_est = np.around(dollar_est, -3)\n",
    "rounded_high = np.around(dollar_high, -3)\n",
    "rounded_low = np.around(dollar_low, -3)\n",
    "\n",
    "print(f'The estimated property value is {rounded_est}.')\n",
    "print(f'At {conf}% confidence the valuation range is')\n",
    "print(f'USD {rounded_low} at the lower end to US {rounded_high} at the high end.')"
   ]
  },
  {
   "cell_type": "code",
   "execution_count": 10,
   "metadata": {},
   "outputs": [],
   "source": [
    "def get_dollar_estimate(income,houseAge,roomNumber, high_confidence=True):\n",
    "    \"\"\"Estimate the price of a property in California\n",
    "    \n",
    "    \"\"\"\n",
    "\n",
    "    if roomNumber < 1 or houseAge < 1 or income < 1:\n",
    "        print('That is unrealistic. Try again.')\n",
    "        return\n",
    "\n",
    "    log_est, upper, lower, conf = get_log_estimate(income,houseAge,roomNumber)\n",
    "\n",
    "    # Convert to today's dollars\n",
    "    dollar_est = np.e**log_est * 100000 * SCALE_FACTOR\n",
    "    dollar_high = np.e**upper * 100000 * SCALE_FACTOR\n",
    "    dollar_low = np.e**lower * 100000 * SCALE_FACTOR\n",
    "\n",
    "    # Round the dollar values to nearest thousand\n",
    "    rounded_est = np.around(dollar_est, -3)\n",
    "    rounded_high = np.around(dollar_high, -3)\n",
    "    rounded_low = np.around(dollar_low, -3)\n",
    "\n",
    "    print(f'The estimated property value is ${rounded_est}.')\n",
    "    print(f'At {conf}% confidence the valuation range is')\n",
    "    print(f'USD {rounded_low} at the lower end to US {rounded_high} at the high end.')\n",
    "        "
   ]
  },
  {
   "cell_type": "code",
   "execution_count": 11,
   "metadata": {},
   "outputs": [
    {
     "name": "stdout",
     "output_type": "stream",
     "text": [
      "The estimated property value is $782000.0.\n",
      "At 95% confidence the valuation range is\n",
      "USD 386000.0 at the lower end to US 1587000.0 at the high end.\n"
     ]
    },
    {
     "name": "stderr",
     "output_type": "stream",
     "text": [
      "c:\\Users\\ASUS\\AppData\\Local\\Programs\\Python\\Python38\\lib\\site-packages\\sklearn\\base.py:465: UserWarning: X does not have valid feature names, but LinearRegression was fitted with feature names\n",
      "  warnings.warn(\n"
     ]
    }
   ],
   "source": [
    "get_dollar_estimate(income=2,houseAge=30,roomNumber=2, high_confidence=True)"
   ]
  }
 ],
 "metadata": {
  "kernelspec": {
   "display_name": "Python 3",
   "language": "python",
   "name": "python3"
  },
  "language_info": {
   "codemirror_mode": {
    "name": "ipython",
    "version": 3
   },
   "file_extension": ".py",
   "mimetype": "text/x-python",
   "name": "python",
   "nbconvert_exporter": "python",
   "pygments_lexer": "ipython3",
   "version": "3.8.0"
  }
 },
 "nbformat": 4,
 "nbformat_minor": 2
}
