{
 "cells": [
  {
   "cell_type": "markdown",
   "metadata": {},
   "source": [
    "# Understand Mean and Median\n",
    "\n",
    "### Mean:\n",
    "The central value, calculated as the sum of all the values divided by the number of items.\n",
    "\n",
    "### Median:\n",
    "The midpoint of the distribution. The middle value."
   ]
  },
  {
   "cell_type": "markdown",
   "metadata": {},
   "source": [
    "# Correlation\n",
    "\n",
    "Correlation range: $ -1 \\le \\rho \\le 1 $\n",
    "\n",
    "[Definition](https://en.wikipedia.org/wiki/Correlation)\n",
    "\n",
    "[Positive and Negative Correlation Graph](https://www.simplypsychology.org/correlation.html)\n",
    "\n",
    "We care the **Strength** and **Direction** of Correlation"
   ]
  },
  {
   "cell_type": "markdown",
   "metadata": {},
   "source": [
    "# Skewness\n",
    "\n",
    "[Definition](https://en.wikipedia.org/wiki/Skewness)"
   ]
  },
  {
   "cell_type": "markdown",
   "metadata": {},
   "source": [
    "# P-value\n",
    "\n",
    "[Definition](https://www.scribbr.com/statistics/p-value/)\n",
    "\n",
    "\n",
    "If p-value < 0.05, this means data are significant.<br>\n",
    "If p-value > 0.05, this means data are insignificant."
   ]
  }
 ],
 "metadata": {
  "kernelspec": {
   "display_name": "Python 3",
   "language": "python",
   "name": "python3"
  },
  "language_info": {
   "name": "python",
   "version": "3.8.0"
  }
 },
 "nbformat": 4,
 "nbformat_minor": 2
}
